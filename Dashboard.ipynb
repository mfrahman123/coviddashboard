{
 "cells": [
  {
   "cell_type": "markdown",
   "metadata": {},
   "source": [
    "# Covid-19-Dashboard \n",
    "### An Interactive Covid-19 dashboard using data from Public Health England"
   ]
  },
  {
   "cell_type": "code",
   "execution_count": 1,
   "metadata": {},
   "outputs": [
    {
     "data": {
      "application/vnd.jupyter.widget-view+json": {
       "model_id": "da770a75b13b4cbeb068666be8e6eb14",
       "version_major": 2,
       "version_minor": 0
      },
      "text/plain": [
       "Button(button_style='success', description='Download PHE API data', icon='download', layout=Layout(width='max-…"
      ]
     },
     "metadata": {},
     "output_type": "display_data"
    },
    {
     "name": "stdout",
     "output_type": "stream",
     "text": [
      "I'm downloading data from the API...\n",
      "...all done.\n"
     ]
    }
   ],
   "source": [
    "import ipywidgets as wdg\n",
    "import pandas as pd\n",
    "import numpy as np\n",
    "import matplotlib.pyplot as plt\n",
    "import json\n",
    "from uk_covid19 import Cov19API\n",
    "\n",
    "%matplotlib inline\n",
    "plt.rcParams['figure.dpi'] = 100\n",
    "def create_api_data():    \n",
    "    \n",
    "    print(\"I'm downloading data from the API...\")\n",
    "    filters = [\n",
    "        \"areaType=overview\"\n",
    "    ]\n",
    "\n",
    "    structure = {\n",
    "        \"date\": \"date\",\n",
    "        \"cases\": \"newCasesByPublishDate\",\n",
    "        \"hospital\": \"newAdmissions\",\n",
    "        \"deaths\": \"cumDeaths28DaysByDeathDateRate\",\n",
    "        \"males\": \"maleCases\",\n",
    "        \"females\": \"femaleCases\"\n",
    "    }\n",
    "\n",
    "    api = Cov19API(filters=filters, structure=structure)\n",
    "    timeseries = api.get_json()\n",
    "\n",
    "    filters = [\n",
    "        'areaType=nation',\n",
    "        'areaName=England'\n",
    "    ]\n",
    "\n",
    "    structure = {\n",
    "        \"males\": \"maleCases\",\n",
    "        \"females\": \"femaleCases\"\n",
    "    }\n",
    "\n",
    "    api = Cov19API(filters=filters, structure=structure)\n",
    "    agedistribution = api.get_json()\n",
    "\n",
    "    filters = [\n",
    "        'areaType=nation',\n",
    "        'areaName=England'\n",
    "    ]\n",
    "\n",
    "    structure = {\n",
    "        \"date\": \"date\",\n",
    "        \"newAdmissions\": \"newAdmissions\",\n",
    "        \"covidOccupiedMVBeds\": \"covidOccupiedMVBeds\"\n",
    "    }\n",
    "\n",
    "    api = Cov19API(filters=filters, structure=structure)\n",
    "    ventilator = api.get_json()\n",
    "\n",
    "    filters = [\n",
    "        'areaType=region',\n",
    "        'areaName=London'\n",
    "    ]\n",
    "\n",
    "    structure = {\n",
    "        \"date\": \"date\",\n",
    "        \"deaths\": \"newDeaths28DaysByDeathDate\",\n",
    "        \"cases\": \"newCasesBySpecimenDate\"\n",
    "    }\n",
    "\n",
    "    api = Cov19API(filters=filters, structure=structure)\n",
    "    london_cases_deaths = api.get_json()\n",
    "\n",
    "    with open(\"timeseries.json\", \"wt\") as OUTF:\n",
    "        json.dump(timeseries, OUTF)\n",
    "\n",
    "    with open(\"agedistribution.json\", \"wt\") as OUTF:\n",
    "        json.dump(agedistribution, OUTF)\n",
    "\n",
    "    with open(\"ventilator.json\", \"wt\") as OUTF:\n",
    "        json.dump(ventilator, OUTF)\n",
    "\n",
    "    with open(\"london_cases_deaths.json\", \"wt\") as OUTF:\n",
    "        json.dump(london_cases_deaths, OUTF)\n",
    "\n",
    "    print(\"...all done.\")\n",
    "def access_api(button):\n",
    "    create_api_data()\n",
    "\n",
    "apibutton = wdg.Button(\n",
    "        description='Download PHE API data',\n",
    "        disabled=False,\n",
    "        button_style='success',  # 'success', 'info', 'warning', 'danger' or ''\n",
    "        tooltip='Click to download current Public Health England data',\n",
    "        layout={'width': 'max-content'},\n",
    "        icon='download'  # (FontAwesome names without the `fa-` prefix)\n",
    "    )\n",
    "\n",
    "apibutton.on_click(access_api)\n",
    "\n",
    "display(apibutton)"
   ]
  },
  {
   "cell_type": "markdown",
   "metadata": {},
   "source": [
    "## A Comparison of New COVID-19 Cases and Deaths in London"
   ]
  },
  {
   "cell_type": "code",
   "execution_count": 3,
   "metadata": {},
   "outputs": [
    {
     "data": {
      "application/vnd.jupyter.widget-view+json": {
       "model_id": "ce2d0dc051ac43d88361b0c5aa466db6",
       "version_major": 2,
       "version_minor": 0
      },
      "text/plain": [
       "HBox(children=(SelectMultiple(description='Stats:', index=(0, 1), options=('cases', 'deaths'), rows=2, value=(…"
      ]
     },
     "metadata": {},
     "output_type": "display_data"
    },
    {
     "data": {
      "application/vnd.jupyter.widget-view+json": {
       "model_id": "8cc49a81ce814617932ae3a6d975d241",
       "version_major": 2,
       "version_minor": 0
      },
      "text/plain": [
       "Output()"
      ]
     },
     "metadata": {},
     "output_type": "display_data"
    }
   ],
   "source": [
    "with open(\"london_cases_deaths.json\", \"rt\") as INFILE:\n",
    "    data = json.load(INFILE)\n",
    "\n",
    "dataL = data[\"data\"]\n",
    "\n",
    "datesL = [dictionary[\"date\"] for dictionary in dataL]\n",
    "datesL.sort()\n",
    "\n",
    "def parse_date(datastring):\n",
    "    return pd.to_datetime(datastring, format=\"%Y-%m-%d\")\n",
    "\n",
    "startdateL = parse_date(datesL[0])\n",
    "enddateL = parse_date(datesL[-1])\n",
    "\n",
    "index = pd.date_range(startdateL, enddateL, freq=\"D\")\n",
    "london_cases_deathsdf = pd.DataFrame(index=index, columns=[\"deaths\", \"cases\"])\n",
    "\n",
    "for entry in dataL:\n",
    "    date = parse_date(entry['date'])\n",
    "    for column in [\"deaths\", \"cases\"]:\n",
    "        if pd.isna(london_cases_deathsdf.loc[date, column]):\n",
    "            value = float(entry[column]) if entry[column] != None else 0.0\n",
    "            london_cases_deathsdf.loc[date, column] = value\n",
    "\n",
    "london_cases_deathsdf.fillna(0.0, inplace=True)\n",
    "\n",
    "london_cases_deathsdf.to_pickle(\"london_cases_deathsdf.pkl\")\n",
    "\n",
    "london_cases_deathsdf = pd.read_pickle(\"london_cases_deathsdf.pkl\")\n",
    "\n",
    "london = wdg.SelectMultiple(\n",
    "    options=['cases', 'deaths'],\n",
    "    value=['cases', 'deaths', ],\n",
    "    rows=2,\n",
    "    description='Stats:',\n",
    "    disabled=False\n",
    ")\n",
    "\n",
    "scale = wdg.RadioButtons(\n",
    "    options=['linear', 'log'],\n",
    "    description='Scale:',\n",
    "    disabled=False\n",
    ")\n",
    "\n",
    "controls = wdg.HBox([london, scale])\n",
    "\n",
    "def london_graph(gcols, gscale):\n",
    "    if gscale == 'linear':\n",
    "        logscale = False\n",
    "    else:\n",
    "        logscale = True\n",
    "    ncols = len(gcols)\n",
    "    if ncols > 0:\n",
    "        london_cases_deathsdf[list(gcols)].plot(logy=logscale)\n",
    "    else:\n",
    "        print(\"Click to select data for graph\")\n",
    "        print(\"(CTRL-Click to select more than one category)\")\n",
    "\n",
    "output_london_linear = wdg.interactive_output(london_graph, {'gcols': london, 'gscale': scale})\n",
    "\n",
    "display(controls, output_london_linear)\n"
   ]
  },
  {
   "cell_type": "markdown",
   "metadata": {},
   "source": [
    "# A Comparison of New COVID-19 Admissions and Occupied Mechanical Ventilators in England"
   ]
  },
  {
   "cell_type": "code",
   "execution_count": 6,
   "metadata": {
    "scrolled": true
   },
   "outputs": [
    {
     "data": {
      "application/vnd.jupyter.widget-view+json": {
       "model_id": "b140615912fc47a58cb6ac616d2e754e",
       "version_major": 2,
       "version_minor": 0
      },
      "text/plain": [
       "SelectMultiple(description='Options', index=(0, 1), options=('newAdmissions', 'covidOccupiedMVBeds'), rows=2, …"
      ]
     },
     "metadata": {},
     "output_type": "display_data"
    },
    {
     "data": {
      "application/vnd.jupyter.widget-view+json": {
       "model_id": "a3d52383027643b48d8b2e59a6043546",
       "version_major": 2,
       "version_minor": 0
      },
      "text/plain": [
       "Output()"
      ]
     },
     "metadata": {},
     "output_type": "display_data"
    }
   ],
   "source": [
    "with open(\"ventilator.json\", \"rt\") as INFILE:\n",
    "    data = json.load(INFILE)\n",
    "\n",
    "datav = data[\"data\"]\n",
    "\n",
    "datesv = [dictionary[\"date\"] for dictionary in datav]\n",
    "datesv.sort()\n",
    "\n",
    "def parse_date(datastring):\n",
    "    return pd.to_datetime(datastring, format=\"%Y-%m-%d\")\n",
    "\n",
    "startdatev = parse_date(datesv[0])\n",
    "enddatev = parse_date(datesv[-1])\n",
    "\n",
    "index = pd.date_range(startdatev, enddatev, freq=\"D\")\n",
    "ventilatordf = pd.DataFrame(index=index, columns=[\"newAdmissions\", \"covidOccupiedMVBeds\"])\n",
    "\n",
    "for entry in datav:\n",
    "    date = parse_date(entry['date'])\n",
    "    for column in [\"newAdmissions\", \"covidOccupiedMVBeds\"]:\n",
    "        if pd.isna(ventilatordf.loc[date, column]):\n",
    "            value = float(entry[column]) if entry[column] != None else 0.0\n",
    "            ventilatordf.loc[date, column] = value\n",
    "\n",
    "ventilatordf.fillna(0.0, inplace=True)\n",
    "\n",
    "ventilatordf.to_pickle(\"ventilatordf.pkl\")\n",
    "ventilatordf = pd.read_pickle(\"ventilatordf.pkl\")\n",
    "\n",
    "ventilatorcols = wdg.SelectMultiple(\n",
    "    options=['newAdmissions', 'covidOccupiedMVBeds'],\n",
    "    value=['newAdmissions', 'covidOccupiedMVBeds'],\n",
    "    rows=2,\n",
    "    description='Options',\n",
    "    disabled=False\n",
    ")\n",
    "\n",
    "def ventilator_graph(graphcolumns):\n",
    "    ncols = len(graphcolumns)\n",
    "    if ncols > 0:\n",
    "        ventilatordf.plot(kind='bar', y=list(graphcolumns))\n",
    "        plt.xticks([])\n",
    "        plt.xlabel('Time')\n",
    "    else:\n",
    "        print(\"Click to select data for graph\")\n",
    "        print(\"(CTRL-Click to select more than one category)\")\n",
    "\n",
    "output_ventilators = wdg.interactive_output(ventilator_graph, {'graphcolumns': ventilatorcols})\n",
    "\n",
    "display(ventilatorcols, output_ventilators)\n"
   ]
  },
  {
   "cell_type": "markdown",
   "metadata": {},
   "source": [
    "# A Comparison of COVID-19 Cases, Hospital Cases and Deaths in England"
   ]
  },
  {
   "cell_type": "code",
   "execution_count": 8,
   "metadata": {
    "scrolled": true
   },
   "outputs": [
    {
     "data": {
      "application/vnd.jupyter.widget-view+json": {
       "model_id": "47fea5bd903e441ebaec6c0156616c16",
       "version_major": 2,
       "version_minor": 0
      },
      "text/plain": [
       "HBox(children=(SelectMultiple(description='Stats:', index=(0, 1, 2), options=('cases', 'hospital', 'deaths'), …"
      ]
     },
     "metadata": {},
     "output_type": "display_data"
    },
    {
     "data": {
      "application/vnd.jupyter.widget-view+json": {
       "model_id": "2d48f17ac4c443a2859930a3c2926870",
       "version_major": 2,
       "version_minor": 0
      },
      "text/plain": [
       "Output()"
      ]
     },
     "metadata": {},
     "output_type": "display_data"
    }
   ],
   "source": [
    "with open(\"timeseries.json\", \"rt\") as INFILE:\n",
    "    data = json.load(INFILE)\n",
    "\n",
    "datalist = data[\"data\"]\n",
    "\n",
    "dates = [dictionary[\"date\"] for dictionary in datalist]\n",
    "dates.sort()\n",
    "\n",
    "def parse_date(datastring):\n",
    "    return pd.to_datetime(datastring, format=\"%Y-%m-%d\")\n",
    "\n",
    "startdate = parse_date(dates[0])\n",
    "enddate = parse_date(dates[-1])\n",
    "\n",
    "index = pd.date_range(startdate, enddate, freq=\"D\")\n",
    "timeseriesdf = pd.DataFrame(index=index, columns=[\"cases\", \"hospital\", \"deaths\"])\n",
    "\n",
    "for entry in datalist:\n",
    "    date = parse_date(entry['date'])\n",
    "    for column in ['cases', 'hospital', 'deaths']:\n",
    "        if pd.isna(timeseriesdf.loc[date, column]):\n",
    "            value = float(entry[column]) if entry[column] != None else 0.0\n",
    "            timeseriesdf.loc[date, column] = value\n",
    "\n",
    "timeseriesdf.fillna(0.0, inplace=True)\n",
    "\n",
    "timeseriesdf.to_pickle(\"timeseriesdf.pkl\")\n",
    "timeseriesdf = pd.read_pickle(\"timeseriesdf.pkl\")\n",
    "\n",
    "series = wdg.SelectMultiple(\n",
    "    options=['cases', 'hospital', 'deaths'],\n",
    "    value=['cases', 'hospital', 'deaths'],\n",
    "    rows=3,\n",
    "    description='Stats:',\n",
    "    disabled=False\n",
    ")\n",
    "\n",
    "scale = wdg.RadioButtons(\n",
    "    options=['linear', 'log'],\n",
    "    description='Scale:',\n",
    "    disabled=False\n",
    ")\n",
    "\n",
    "controls = wdg.HBox([series, scale])\n",
    "\n",
    "def timeseries_graph(gcols, gscale):\n",
    "    if gscale == 'linear':\n",
    "        logscale = False\n",
    "    else:\n",
    "        logscale = True\n",
    "    ncols = len(gcols)\n",
    "    if ncols > 0:\n",
    "        timeseriesdf[list(gcols)].plot(logy=logscale)\n",
    "    else:\n",
    "        print(\"Click to select data for graph\")\n",
    "        print(\"(CTRL-Click to select more than one category)\")\n",
    "\n",
    "output_timeseries = wdg.interactive_output(timeseries_graph, {'gcols': series, 'gscale': scale})\n",
    "\n",
    "display(controls, output_timeseries)"
   ]
  },
  {
   "cell_type": "markdown",
   "metadata": {},
   "source": [
    "# A Comparison of COVID-19 Cases in Male and Females Over Various Age Groups"
   ]
  },
  {
   "cell_type": "code",
   "execution_count": 9,
   "metadata": {},
   "outputs": [
    {
     "data": {
      "application/vnd.jupyter.widget-view+json": {
       "model_id": "fc957e28231347c1b9721f64047d85f5",
       "version_major": 2,
       "version_minor": 0
      },
      "text/plain": [
       "SelectMultiple(description='Sex', index=(0, 1), options=('males', 'females', 'total'), rows=3, value=('males',…"
      ]
     },
     "metadata": {},
     "output_type": "display_data"
    },
    {
     "data": {
      "application/vnd.jupyter.widget-view+json": {
       "model_id": "5a6fb10386ed45c08c21547aa73c78e4",
       "version_major": 2,
       "version_minor": 0
      },
      "text/plain": [
       "Output()"
      ]
     },
     "metadata": {},
     "output_type": "display_data"
    }
   ],
   "source": [
    "with open(\"agedistribution.json\", \"rt\") as INFILE:\n",
    "    data = json.load(INFILE)\n",
    "\n",
    "datadic = data['data'][0]\n",
    "males = datadic['males']\n",
    "females = datadic['females']\n",
    "\n",
    "ageranges = [x['age'] for x in males]\n",
    "\n",
    "def min_age(agerange):\n",
    "    agerange = agerange.replace('+', '')\n",
    "    start = agerange.split('_')[0]\n",
    "    return int(start)\n",
    "\n",
    "ageranges.sort(key=min_age)\n",
    "\n",
    "age_df = pd.DataFrame(index=ageranges, columns=['males', 'females', 'total'])\n",
    "\n",
    "for entry in males:\n",
    "    ageband = entry['age']\n",
    "    age_df.loc[ageband, 'males'] = entry['value']\n",
    "\n",
    "for entry in females:\n",
    "    ageband = entry['age']\n",
    "    age_df.loc[ageband, 'females'] = entry['value']\n",
    "\n",
    "age_df['total'] = age_df['males'] + age_df['females']\n",
    "\n",
    "age_df.to_pickle(\"agedf.pkl\")\n",
    "age_df = pd.read_pickle(\"agedf.pkl\")\n",
    "\n",
    "agecols = wdg.SelectMultiple(\n",
    "    options=['males', 'females', 'total'],\n",
    "    value=['males', 'females'],\n",
    "    rows=3,\n",
    "    description='Sex',\n",
    "    disabled=False\n",
    ")\n",
    "\n",
    "def age_graph(graphcolumns):\n",
    "    ncols = len(graphcolumns)\n",
    "    if ncols > 0:\n",
    "        age_df.plot(kind='bar', y=list(graphcolumns))\n",
    "    else:\n",
    "        print(\"Click to select data for graph\")\n",
    "        print(\"(CTRL-Click to select more than one category)\")\n",
    "\n",
    "output_age = wdg.interactive_output(age_graph, {'graphcolumns': agecols})\n",
    "\n",
    "display(agecols, output_age)"
   ]
  }
 ],
 "metadata": {
  "kernelspec": {
   "display_name": "Python 3",
   "language": "python",
   "name": "python3"
  },
  "language_info": {
   "codemirror_mode": {
    "name": "ipython",
    "version": 3
   },
   "file_extension": ".py",
   "mimetype": "text/x-python",
   "name": "python",
   "nbconvert_exporter": "python",
   "pygments_lexer": "ipython3",
   "version": "3.8.2"
  }
 },
 "nbformat": 4,
 "nbformat_minor": 4
}
